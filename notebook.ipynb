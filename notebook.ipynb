{
 "cells": [
  {
   "cell_type": "code",
   "execution_count": 3,
   "metadata": {},
   "outputs": [],
   "source": [
    "import io\n",
    "from src.tools import load_yolo_model\n",
    "from PIL import Image\n",
    "import supervision as sv\n",
    "import numpy as np\n",
    "import cv2\n",
    "from PIL import Image, ExifTags"
   ]
  },
  {
   "cell_type": "code",
   "execution_count": 4,
   "metadata": {},
   "outputs": [],
   "source": [
    "model = load_yolo_model('weights/model_unopened_botle_type_classification.pt')"
   ]
  },
  {
   "cell_type": "code",
   "execution_count": 5,
   "metadata": {},
   "outputs": [
    {
     "data": {
      "text/plain": [
       "{0: 'dropper_bottle', 1: 'liquid_botle', 2: 'pill_botle', 3: 'powder_botle'}"
      ]
     },
     "execution_count": 5,
     "metadata": {},
     "output_type": "execute_result"
    }
   ],
   "source": [
    "model.names"
   ]
  },
  {
   "cell_type": "code",
   "execution_count": 4,
   "metadata": {},
   "outputs": [
    {
     "name": "stdout",
     "output_type": "stream",
     "text": [
      "\n",
      "image 1/1 /workspaces/qms-check/IMG_3154.JPG: 640x480 (no detections), 2421.5ms\n",
      "Speed: 9.5ms preprocess, 2421.5ms inference, 5.0ms postprocess per image at shape (1, 3, 640, 480)\n"
     ]
    }
   ],
   "source": [
    "result = model('IMG_3154.JPG')[0]\n",
    "# detections = sv.Detections.from_ultralytics(result)\n",
    "# detections = detections[detections.confidence > .75]"
   ]
  },
  {
   "cell_type": "code",
   "execution_count": 9,
   "metadata": {},
   "outputs": [
    {
     "data": {
      "text/plain": [
       "'Dropper Bottle'"
      ]
     },
     "execution_count": 9,
     "metadata": {},
     "output_type": "execute_result"
    }
   ],
   "source": [
    "result.to_df().loc[0]['name'].title().replace('_', ' ')"
   ]
  },
  {
   "cell_type": "code",
   "execution_count": 6,
   "metadata": {},
   "outputs": [
    {
     "data": {
      "text/plain": [
       "name          dropper_bottle\n",
       "class                      0\n",
       "confidence               1.0\n",
       "Name: 0, dtype: object"
      ]
     },
     "execution_count": 6,
     "metadata": {},
     "output_type": "execute_result"
    }
   ],
   "source": [
    "result.to_df().loc[0]"
   ]
  },
  {
   "cell_type": "code",
   "execution_count": 7,
   "metadata": {},
   "outputs": [
    {
     "data": {
      "text/plain": [
       "['Cytomatrix-Dermal-Liquid-Bottle',\n",
       " 'Cytomatrix-Dermal-Liquid-Shoulder',\n",
       " 'Cytomatrix-Dermal-Liquid-Neckband',\n",
       " 'Canprev-Magnesium-Liquid-Bottle',\n",
       " 'Canprev-Magnesium-Liquid-Cap',\n",
       " 'Canprev-Magnesium-Liquid-Shoulder',\n",
       " 'Canprev-Magnesium-Liquid-label',\n",
       " 'Canprev-Gaba-Liquid-Bottle',\n",
       " 'Canprev-Gaba-Liquid-Cap',\n",
       " 'Canprev-Omega-Liquid-Botle-Neckband',\n",
       " 'Canprev-Omega-Liquid-Bottle',\n",
       " 'Canprev-Omega-Liquid-Shoulder',\n",
       " 'Canprev-Gaba-Liquid-shoulder']"
      ]
     },
     "execution_count": 7,
     "metadata": {},
     "output_type": "execute_result"
    }
   ],
   "source": [
    "['Cytomatrix-Dermal-Liquid-Bottle', 'Cytomatrix-Dermal-Liquid-Shoulder', \n",
    "'Cytomatrix-Dermal-Liquid-Neckband', 'Canprev-Magnesium-Liquid-Bottle', 'Canprev-Magnesium-Liquid-Cap', \n",
    "'Canprev-Magnesium-Liquid-Shoulder', 'Canprev-Magnesium-Liquid-label', 'Canprev-Gaba-Liquid-Bottle', \n",
    "'Canprev-Gaba-Liquid-Cap', 'Canprev-Omega-Liquid-Botle-Neckband', \n",
    "'Canprev-Omega-Liquid-Bottle', 'Canprev-Omega-Liquid-Shoulder', 'Canprev-Gaba-Liquid-shoulder']"
   ]
  }
 ],
 "metadata": {
  "kernelspec": {
   "display_name": "Python 3",
   "language": "python",
   "name": "python3"
  },
  "language_info": {
   "codemirror_mode": {
    "name": "ipython",
    "version": 3
   },
   "file_extension": ".py",
   "mimetype": "text/x-python",
   "name": "python",
   "nbconvert_exporter": "python",
   "pygments_lexer": "ipython3",
   "version": "3.12.1"
  }
 },
 "nbformat": 4,
 "nbformat_minor": 2
}
